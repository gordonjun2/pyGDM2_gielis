{
 "cells": [
  {
   "cell_type": "markdown",
   "metadata": {},
   "source": [
    "Tutorial: Raster-scan simulations - photonic LDOS\n",
    "===============================\n",
    "This is an example how to simulate photonic LDOS raster-scans in pyGDM.\n",
    "\n",
    "We load the pyGDM modules:"
   ]
  },
  {
   "cell_type": "code",
   "execution_count": 1,
   "metadata": {
    "collapsed": true
   },
   "outputs": [],
   "source": [
    "import numpy as np\n",
    "import matplotlib.pyplot as plt\n",
    "\n",
    "from pyGDM2 import structures\n",
    "from pyGDM2 import materials\n",
    "from pyGDM2 import fields\n",
    "\n",
    "from pyGDM2 import core\n",
    "from pyGDM2 import linear\n",
    "from pyGDM2 import nonlinear\n",
    "from pyGDM2 import visu\n",
    "from pyGDM2 import tools"
   ]
  },
  {
   "cell_type": "markdown",
   "metadata": {},
   "source": [
    "Simulation setup\n",
    "------------------\n",
    "\n",
    "We will setup two simulations: One to calculate a decay-rate mapping (i.e. the LDOS) and a second for a \"TPL\"-type rasterscan. The latter can be used to get an approximation for the LDOS at the surface of the structure (see e.g. [1]).\n",
    "\n",
    "\n",
    "[1] Viarbitskaya, S. et al. *Tailoring and imaging the plasmonic local density of states in crystalline nanoprisms.* Nat. Mater. **12**, 426–432 (2013)"
   ]
  },
  {
   "cell_type": "code",
   "execution_count": 2,
   "metadata": {},
   "outputs": [
    {
     "name": "stderr",
     "output_type": "stream",
     "text": [
      "/home/hans/Documents/programming/work/python/pyGDM2/structures.py:101: UserWarning: Minimum structure Z-value lies below substrate level! Shifting structure bottom to Z=step/2.\n",
      "  \" Shifting structure bottom to Z=step/2.\")\n"
     ]
    },
    {
     "data": {
      "image/png": "[encoded data removed]",
      "text/plain": [
       "<matplotlib.figure.Figure at 0x7f5836acb1d0>"
      ]
     },
     "metadata": {},
     "output_type": "display_data"
    },
    {
     "name": "stdout",
     "output_type": "stream",
     "text": [
      "N dipoles: 420\n"
     ]
    }
   ],
   "source": [
    "## ---------- Setup structure\n",
    "mesh = 'cube'\n",
    "## -- note: in the paper example, a stepsize of 20nm was used. \n",
    "##          We increase the step for the sake of a shorter simulation runtime.\n",
    "step = 30.0\n",
    "geometry = structures.rect_split_ring(step, L1=800/step-1, L2=400/step-1, \n",
    "                                         W=180/step-1, H=int(60/step), mesh=mesh)\n",
    "\n",
    "material = materials.dummy(2.0)\n",
    "\n",
    "n1, n2 = 1.0, 1.0  # constant environment\n",
    "\n",
    "struct = structures.struct(step, geometry, material, n1,n2, structures.get_normalization(mesh))\n",
    "struct = structures.center_struct(struct)\n",
    "\n",
    "## --- raster-scan height: at top-surface of structure\n",
    "Z_scan = geometry.T[2].max()\n",
    "MAP = tools.generate_NF_map(-550,550,25, -310,310,15, Z_scan)\n",
    "\n",
    "## ---------- Setup incident field at each raster-scan position\n",
    "kwargs_focused = []\n",
    "kwargs_dipole = []\n",
    "for x,y,z in MAP.T:\n",
    "    ## keys for focused illumination (TPL-method)\n",
    "    kwargs_focused.append( dict(theta=0, spotsize=100, kSign=-1, xSpot=x, ySpot=y) )\n",
    "    kwargs_focused.append( dict(theta=90, spotsize=100, kSign=-1, xSpot=x, ySpot=y) )\n",
    "    \n",
    "    ## keys for dipole emitter scan (\"real\" LDOS)\n",
    "    kwargs_dipole.append( dict(x0=x, y0=y, z0=z, mx=0,my=0,mz=0) )\n",
    "\n",
    "\n",
    "wavelengths = [600]\n",
    "efield_focused = fields.efield(fields.focused_planewave, wavelengths=wavelengths, kwargs=kwargs_focused)\n",
    "efield_dipole = fields.efield(fields.dipole_electric, wavelengths=wavelengths, kwargs=kwargs_dipole)\n",
    "\n",
    "\n",
    "## ---------- Simulation initialization\n",
    "sim_foc = core.simulation(struct, efield_focused)\n",
    "sim_dp = core.simulation(struct, efield_dipole)\n",
    "\n",
    "\n",
    "## --- plot the structure\n",
    "visu.structure(sim_foc.struct.geometry, scale=0.5)\n",
    "print \"N dipoles:\", len(sim_foc.struct.geometry)"
   ]
  },
  {
   "cell_type": "markdown",
   "metadata": {},
   "source": [
    "Let's run the simulations:\n",
    "----------------------------"
   ]
  },
  {
   "cell_type": "code",
   "execution_count": 3,
   "metadata": {},
   "outputs": [
    {
     "name": "stdout",
     "output_type": "stream",
     "text": [
      "timing 600.00nm:     2291.8 ms\n",
      "Wavelength: 600.0nm - electric dipole\n",
      "  - inversion:            0.128s\n"
     ]
    },
    {
     "name": "stderr",
     "output_type": "stream",
     "text": [
      "/home/hans/Documents/programming/work/python/pyGDM2/core.py:519: UserWarning: The dipole orientation is configured multiple times. This setting will be ignored by `core.decay_rate`. Please use `linear.decay` to compute the decay-rates for several dipole orientations.\n",
      "  \"several dipole orientations.\")\n"
     ]
    },
    {
     "name": "stdout",
     "output_type": "stream",
     "text": [
      "  - decay repropagation:  15.171s\n"
     ]
    }
   ],
   "source": [
    "## scattering (TPL method)\n",
    "E0 = core.scatter(sim_foc, verbose=True)\n",
    "\n",
    "## decay rate (LDOS)\n",
    "SP0 = core.decay_rate(sim_dp, verbose=True)"
   ]
  },
  {
   "cell_type": "markdown",
   "metadata": {},
   "source": [
    "Note that *core.scatter* and *core.decay_rate* calculated $(2 + 1) \\times 25 \\times 15 = 1125$ simulations.\n",
    "\n",
    "Calcuate raster-scan maps\n",
    "---------------------------\n",
    "Now comes the part where we calculate the scalar raster-scan maps from the simulation results"
   ]
  },
  {
   "cell_type": "code",
   "execution_count": 4,
   "metadata": {},
   "outputs": [
    {
     "name": "stdout",
     "output_type": "stream",
     "text": [
      "decay-rate evaluated using:\n",
      "  - wavelength: 600.0nm\n",
      "  - dipole type: electric\n",
      "  - dipole vector: (1, 0, 0)\n",
      "decay-rate evaluated using:\n",
      "  - wavelength: 600.0nm\n",
      "  - dipole type: electric\n",
      "  - dipole vector: (0, 1, 0)\n"
     ]
    },
    {
     "name": "stderr",
     "output_type": "stream",
     "text": [
      "/home/hans/Documents/programming/work/python/pyGDM2/tools.py:1102: UserWarning: 'field_kwargs' are index instead of dict.Using `get_possible_field_params_rasterscan`.Using configuration #0: '{'theta': 0, 'spotsize': 100, 'kSign': -1, 'wavelength': 600.0}'\n",
      "  \"Using configuration #{}: '{}'\".format(kw_index, field_kwargs))\n",
      "/home/hans/Documents/programming/work/python/pyGDM2/tools.py:1102: UserWarning: 'field_kwargs' are index instead of dict.Using `get_possible_field_params_rasterscan`.Using configuration #1: '{'theta': 90, 'spotsize': 100, 'kSign': -1, 'wavelength': 600.0}'\n",
      "  \"Using configuration #{}: '{}'\".format(kw_index, field_kwargs))\n"
     ]
    }
   ],
   "source": [
    "\n",
    "## --- calculate TPL rasterscan maps\n",
    "TPL0 = tools.calculate_rasterscan(sim_foc, 0, nonlinear.tpl_ldos, nonlin_order=1, verbose=True)\n",
    "TPL90 = tools.calculate_rasterscan(sim_foc, 1, nonlinear.tpl_ldos, nonlin_order=1, verbose=True)\n",
    "\n",
    "## --- calculate decay-rate rasterscan maps\n",
    "gamma_scan_X = linear.decay_eval(sim_dp, 0, 1, 0, 0, verbose=True)\n",
    "gamma_scan_Y = linear.decay_eval(sim_dp, 0, 0, 1, 0, verbose=True)"
   ]
  },
  {
   "cell_type": "markdown",
   "metadata": {},
   "source": [
    "Plotting the maps\n",
    "-------------------\n",
    "Now we have calculated 2D scalar maps of the LDOS in a plane at the level of the top surface of the structure. Let's plot it together with the surface LDOS obtained by the \"TPL-method\":"
   ]
  },
  {
   "cell_type": "code",
   "execution_count": 5,
   "metadata": {},
   "outputs": [
    {
     "data": {
      "image/png": "[encoded data removed]",
      "text/plain": [
       "<matplotlib.figure.Figure at 0x7f5870c7ca90>"
      ]
     },
     "metadata": {},
     "output_type": "display_data"
    }
   ],
   "source": [
    "plt.figure(figsize=(10,6))\n",
    "\n",
    "## --- plot \"TPL-LDOS\"\n",
    "plt.subplot(231, aspect='equal'); plt.title(\"TPL-LDOS along X\")\n",
    "visu.scalarfield(TPL0, cmap='jet', show=False)\n",
    "visu.structure_contour(sim_dp, color='w', input_mesh=mesh, show=False)\n",
    "\n",
    "\n",
    "plt.subplot(232, aspect='equal'); plt.title(\"TPL-LDOS along Y\")\n",
    "visu.scalarfield(TPL90, cmap='jet', show=False)\n",
    "visu.structure_contour(sim_dp, color='w', input_mesh=mesh, show=False)\n",
    "\n",
    "\n",
    "TPL_tot = [TPL0[0], (TPL0[1]+TPL90[1])/2.]\n",
    "\n",
    "plt.subplot(233)\n",
    "plt.title(\"tot. LDOS via 'TPL'-method\\nfocal spot size = {}nm\".format(int(sim_foc.efield.kwargs[0]['spotsize'])))\n",
    "visu.scalarfield(TPL_tot, cmap='jet', show=False)\n",
    "visu.structure_contour(sim_dp, color='w', input_mesh=mesh, show=False)\n",
    "\n",
    "\n",
    "\n",
    "## --- plot LDOS via field-susceptibility (\"decay-rate method\")\n",
    "plt.subplot(234)\n",
    "plt.title(\"LDOS via Im(S) X\")\n",
    "visu.scalarfield(gamma_scan_X, cmap='jet', show=False)\n",
    "visu.structure_contour(sim_dp, color='w', input_mesh=mesh, show=False)\n",
    "\n",
    "\n",
    "plt.subplot(235)\n",
    "plt.title(\"LDOS via Im(S) Y\")\n",
    "visu.scalarfield(gamma_scan_Y, cmap='jet', show=False)\n",
    "visu.structure_contour(sim_dp, color='w', input_mesh=mesh, show=False)\n",
    "\n",
    "\n",
    "gamma_scan_tot = gamma_scan_X\n",
    "gamma_scan_tot.T[3] += gamma_scan_Y.T[3]\n",
    "gamma_scan_tot.T[3] /= 2.0\n",
    "\n",
    "plt.subplot(236)\n",
    "plt.title(\"LDOS via Im(S), tot x/y\")\n",
    "visu.scalarfield(gamma_scan_tot, cmap='jet', show=False)\n",
    "visu.structure_contour(sim_dp, color='w', input_mesh=mesh, show=False)\n",
    "\n",
    "\n",
    "plt.tight_layout()\n",
    "plt.show()"
   ]
  },
  {
   "cell_type": "markdown",
   "metadata": {},
   "source": [
    "The agreement is qualitatively ok, the global trends are similar. The TPL-method gives however only an approximation to the LDOS at the surface. Also only the LDOS at the actual surface of the structure can be obtained using the TPL method with an unphysically tight beam. The LDOS *outside* the structure must in any case be calculated using the slower technique via the imaginary part of the field susceptibility (decay rate)."
   ]
  }
 ],
 "metadata": {
  "kernelspec": {
   "display_name": "Python 2",
   "language": "python",
   "name": "python2"
  },
  "language_info": {
   "codemirror_mode": {
    "name": "ipython",
    "version": 2
   },
   "file_extension": ".py",
   "mimetype": "text/x-python",
   "name": "python",
   "nbconvert_exporter": "python",
   "pygments_lexer": "ipython2",
   "version": "2.7.12"
  }
 },
 "nbformat": 4,
 "nbformat_minor": 2
}
