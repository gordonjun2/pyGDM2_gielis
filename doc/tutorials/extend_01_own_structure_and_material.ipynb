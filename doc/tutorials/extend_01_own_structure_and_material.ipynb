{
 "cells": [
  {
   "cell_type": "markdown",
   "metadata": {},
   "source": [
    "Tutorial: Own structures and materials\n",
    "=================\n",
    "This tutorial demonstrates how user-defined structure models and material classes can be implemented in pyGDM.\n",
    "\n",
    "*Note:* Structures can also be loaded from text-files as a list of (x,y,z) coordinates. Material dispersions can also be loaded from files containing tabulated data via the \"materials.fromFile\" class.\n",
    "\n",
    "First load pyGDM\n",
    "-------------------"
   ]
  },
  {
   "cell_type": "code",
   "execution_count": 1,
   "metadata": {
    "collapsed": true
   },
   "outputs": [],
   "source": [
    "import numpy as np\n",
    "import matplotlib.pyplot as plt\n",
    "\n",
    "from pyGDM2 import core\n",
    "from pyGDM2 import fields\n",
    "from pyGDM2 import structures\n",
    "from pyGDM2 import tools\n",
    "from pyGDM2 import linear\n",
    "from pyGDM2 import visu"
   ]
  },
  {
   "cell_type": "markdown",
   "metadata": {},
   "source": [
    "Implement a structure generator\n",
    "--------------------------------------\n",
    "\n",
    "For this example we implement a simple structure generator, which will return the coordinates of a volume discretized cube. The important part is the definition of \"condition_cube\", which will be called to choose whether a meshpoint coordinate lies inside or outside the volume of the structure."
   ]
  },
  {
   "cell_type": "code",
   "execution_count": 2,
   "metadata": {},
   "outputs": [],
   "source": [
    "from pyGDM2.structures import _meshCubic, _meshHexagonalCompact\n",
    "\n",
    "def structure_cube(step, L, mesh='cube', orientation_hex=1):\n",
    "    \"\"\"Generate volume discretized cube. Side length 'L', stepsize 'step'\"\"\"\n",
    "    \n",
    "    ## condition for a point being inside the cube volume\n",
    "    def condition_cube(xi,yi,zi):\n",
    "        return (0<xi<=L and 0<yi<=L and 0<zi<=L)\n",
    "    \n",
    "    ## call mesher\n",
    "    if mesh == 'cube':\n",
    "        sp = _meshCubic( (-2, int(L)+2), (-2, int(L)+2), (0, int(L)+1), \n",
    "                        condition_cube)\n",
    "    elif mesh == 'hex':\n",
    "        sp = _meshHexagonalCompact( (-2, int(L)+2), (-2, int(L)+2), (-2, int(L)+2), \n",
    "                                    condition_cube, orientation_hex)\n",
    "    \n",
    "    ## convert to numpy array and scale with discretization stepsize\n",
    "    sp = np.array(sp, dtype=np.float)\n",
    "    sp *= step\n",
    "    \n",
    "    return sp"
   ]
  },
  {
   "cell_type": "markdown",
   "metadata": {},
   "source": [
    "Let's test the new structure model."
   ]
  },
  {
   "cell_type": "code",
   "execution_count": 3,
   "metadata": {},
   "outputs": [
    {
     "data": {
      "image/png": "[encoded data removed]",
      "text/plain": [
       "<matplotlib.figure.Figure at 0x7f548d502650>"
      ]
     },
     "metadata": {},
     "output_type": "display_data"
    }
   ],
   "source": [
    "step = 10.0\n",
    "geometry = structure_cube(step, L=5, mesh='cube')\n",
    "geometry_hex = structure_cube(step, L=5, mesh='hex')\n",
    "\n",
    "\n",
    "plt.subplot(121, aspect='equal')\n",
    "pt = visu.structure(geometry, tit='cube, cubic mesh', show=0)\n",
    "plt.subplot(122, aspect='equal')\n",
    "pt = visu.structure(geometry_hex, tit='hex. mesh also works', show=1)"
   ]
  },
  {
   "cell_type": "markdown",
   "metadata": {},
   "source": [
    "Implement a material dispersion class\n",
    "--------------------------------------\n",
    "\n",
    "To demonstrate the material class, we implement a simple material with constant refractive index of $n=2$. \n",
    "\n",
    "*Note* that the complex permittivity ($\\epsilon$) is expected by pyGDM."
   ]
  },
  {
   "cell_type": "code",
   "execution_count": 4,
   "metadata": {},
   "outputs": [
    {
     "data": {
      "image/png": "[encoded data removed]",
      "text/plain": [
       "<matplotlib.figure.Figure at 0x7f548d502610>"
      ]
     },
     "metadata": {},
     "output_type": "display_data"
    }
   ],
   "source": [
    "class refindex_n2(object):\n",
    "    def __init__(self):\n",
    "        self.__name__ = 'constant index, n=2'\n",
    "    \n",
    "    def epsilon(self, wavelength):\n",
    "        \"\"\"return the index n=2 (epsilon=4)\"\"\"\n",
    "        eps = complex(4.0)\n",
    "        return eps\n",
    "\n",
    "\n",
    "## test the dispersion\n",
    "material_n2 = refindex_n2()\n",
    "la = np.linspace(400, 1000, 50)\n",
    "\n",
    "\n",
    "plt.plot(la, [material_n2.epsilon(l).real for l in la], label='real part')\n",
    "plt.plot(la, [material_n2.epsilon(l).imag for l in la], label='imag. part')\n",
    "\n",
    "plt.xlabel(\"wavelength (nm)\")\n",
    "plt.ylabel(\"epsilon\")\n",
    "plt.legend()\n",
    "plt.show()"
   ]
  },
  {
   "cell_type": "markdown",
   "metadata": {},
   "source": [
    "Test the own model in a simulation\n",
    "-----------------------------\n",
    "\n",
    "Now let's test the own model and dispersion in a simple simulation"
   ]
  },
  {
   "cell_type": "code",
   "execution_count": 5,
   "metadata": {},
   "outputs": [
    {
     "name": "stdout",
     "output_type": "stream",
     "text": [
      "timing 400.00nm:     195.1 ms\n"
     ]
    },
    {
     "data": {
      "image/png": "[encoded data removed]",
      "text/plain": [
       "<matplotlib.figure.Figure at 0x7f548ca84d90>"
      ]
     },
     "metadata": {},
     "output_type": "display_data"
    }
   ],
   "source": [
    "## setup structure and disperision \n",
    "n1, n2 = 1.0, 1.0\n",
    "struct = structures.struct(step, geometry, material_n2, n1,n2, \n",
    "                           structures.get_normalization('cube'))\n",
    "\n",
    "field_generator = fields.planewave\n",
    "efield = fields.efield(field_generator, wavelengths=[400], \n",
    "                       kwargs=dict(theta = [0.0]))\n",
    "\n",
    "sim = core.simulation(struct, efield)\n",
    "\n",
    "## run the scattering simulation\n",
    "EF = core.scatter(sim)\n",
    "\n",
    "## plot the near-field in a plane close to the cube\n",
    "r_probe = tools.generate_NF_map(-500,500,50, -500,500,50, Z0=100)\n",
    "nearfield = linear.nearfield(sim, field_index=0, r_probe=r_probe)[1]\n",
    "\n",
    "visu.vectorfield_color(nearfield, show=0)\n",
    "plt.colorbar()\n",
    "plt.show()"
   ]
  }
 ],
 "metadata": {
  "kernelspec": {
   "display_name": "Python 2",
   "language": "python",
   "name": "python2"
  },
  "language_info": {
   "codemirror_mode": {
    "name": "ipython",
    "version": 2
   },
   "file_extension": ".py",
   "mimetype": "text/x-python",
   "name": "python",
   "nbconvert_exporter": "python",
   "pygments_lexer": "ipython2",
   "version": "2.7.12"
  }
 },
 "nbformat": 4,
 "nbformat_minor": 2
}
