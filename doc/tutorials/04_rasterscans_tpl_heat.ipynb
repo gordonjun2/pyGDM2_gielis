{
 "cells": [
  {
   "cell_type": "markdown",
   "metadata": {},
   "source": [
    "Tutorial: Raster-scan simulations - Thermoplasmonics\n",
    "===============================\n",
    "This is an example how to simulate raster-scans in pyGDM.\n",
    "\n",
    "We start again by loading the pyGDM modules that we are going to use:"
   ]
  },
  {
   "cell_type": "code",
   "execution_count": 1,
   "metadata": {
    "collapsed": true
   },
   "outputs": [],
   "source": [
    "import numpy as np\n",
    "import matplotlib.pyplot as plt\n",
    "\n",
    "from pyGDM2 import structures\n",
    "from pyGDM2 import materials\n",
    "from pyGDM2 import fields\n",
    "\n",
    "from pyGDM2 import core\n",
    "from pyGDM2 import linear\n",
    "from pyGDM2 import nonlinear\n",
    "from pyGDM2 import visu\n",
    "from pyGDM2 import tools"
   ]
  },
  {
   "cell_type": "markdown",
   "metadata": {},
   "source": [
    "Simulation setup\n",
    "------------------\n",
    "\n",
    "We'll use water as environment (n=1.33, kappa=0.6 W (m^-1 K^1) )"
   ]
  },
  {
   "cell_type": "code",
   "execution_count": 2,
   "metadata": {},
   "outputs": [
    {
     "name": "stderr",
     "output_type": "stream",
     "text": [
      "/home/hans/Documents/programming/work/python/pyGDM2/structures.py:101: UserWarning: Minimum structure Z-value lies below substrate level! Shifting structure bottom to Z=step/2.\n",
      "  \" Shifting structure bottom to Z=step/2.\")\n"
     ]
    }
   ],
   "source": [
    "## --- Setup structure\n",
    "step = 20.0\n",
    "geometry = structures.rhombus(step, L=int(520/step), H=1, alpha=60, mesh='hex')\n",
    "geometry = structures.center_struct(geometry)\n",
    "\n",
    "material = materials.gold()\n",
    "n1, n2 = 1.33, 1.33  # constant environment (water)\n",
    "\n",
    "struct = structures.struct(step, geometry, material, n1,n2, \n",
    "                                   structures.get_normalization('hex'))\n",
    "\n",
    "## --- Setup incident field\n",
    "field_generator = fields.focused_planewave        # planwave excitation\n",
    "\n",
    "## 50nm spotsize: LDOS; 200nm spotsize: TPL map\n",
    "kwargs = dict(theta = [0, 90], spotsize=[200], kSign=-1, \n",
    "              xSpot=np.linspace(-500, 500, 25), \n",
    "              ySpot=np.linspace(-500, 500, 25))\n",
    "wavelengths = [750]\n",
    "efield = fields.efield(field_generator, wavelengths=wavelengths, kwargs=kwargs)\n",
    "\n",
    "\n",
    "## ---------- Simulation initialization\n",
    "sim = core.simulation(struct, efield)"
   ]
  },
  {
   "cell_type": "markdown",
   "metadata": {},
   "source": [
    "Let's see what we configured there. \n",
    "First we plot an XY projection of the structure, then we will see what raster-scan configurations we get from the above defined field-parameters (*kwargs*):"
   ]
  },
  {
   "cell_type": "code",
   "execution_count": 3,
   "metadata": {},
   "outputs": [
    {
     "data": {
      "image/png": "[encoded data removed]",
      "text/plain": [
       "<matplotlib.figure.Figure at 0x7fd3fb18af50>"
      ]
     },
     "metadata": {},
     "output_type": "display_data"
    },
    {
     "name": "stdout",
     "output_type": "stream",
     "text": [
      "N dipoles: 676\n",
      "\n",
      "\n",
      " --- available rasterscan configurations:\n",
      "index 0: {'theta': 0, 'spotsize': 200, 'kSign': -1, 'wavelength': 750.0}\n",
      "index 1: {'theta': 90, 'spotsize': 200, 'kSign': -1, 'wavelength': 750.0}\n"
     ]
    }
   ],
   "source": [
    "## --- plot the structure\n",
    "visu.structure(sim.struct.geometry, scale=0.5)\n",
    "print \"N dipoles:\", len(sim.struct.geometry)\n",
    "\n",
    "## --- get a list of all raster-scan map configurations defined in \"sim\"\n",
    "rasterscan_fieldconfigs = tools.get_possible_field_params_rasterscan(sim)\n",
    "print '\\n\\n --- available rasterscan configurations:' \n",
    "for i, p in enumerate(rasterscan_fieldconfigs):\n",
    "    print \"index {}: {}\".format(i, p)"
   ]
  },
  {
   "cell_type": "markdown",
   "metadata": {},
   "source": [
    " - Indices \"0\" and \"1\" correspond to two full rasterscans with perpendicular polarizations of the incident field\n",
    " \n",
    "Let's run the simulation:\n",
    "----------------------------"
   ]
  },
  {
   "cell_type": "code",
   "execution_count": 4,
   "metadata": {},
   "outputs": [
    {
     "name": "stdout",
     "output_type": "stream",
     "text": [
      "timing 750.00nm:     6758.5 ms\n"
     ]
    }
   ],
   "source": [
    "E = core.scatter(sim)\n"
   ]
  },
  {
   "cell_type": "markdown",
   "metadata": {},
   "source": [
    "Note that *core.scatter* above calculated $2 \\times 25 \\times 25 = 1250$ simulations!\n",
    "\n",
    "Calcuate raster-scan maps\n",
    "---------------------------\n",
    "Now comes the part where we calculate the raster-scan maps from the 1250 fields inside the nanoparticles (which are all stored in **sim.E**):"
   ]
  },
  {
   "cell_type": "code",
   "execution_count": 5,
   "metadata": {},
   "outputs": [
    {
     "name": "stdout",
     "output_type": "stream",
     "text": [
      "calculating TPL...\n",
      "calculating heat...\n",
      "calculating temperature rise at (0,0,150)...\n"
     ]
    }
   ],
   "source": [
    "## raster-scan indices 0,1: 0,90 deg\n",
    "\n",
    "## --- TPL\n",
    "print \"calculating TPL...\"\n",
    "TPL0 = tools.calculate_rasterscan(sim, 0, nonlinear.tpl_ldos)\n",
    "TPL90 = tools.calculate_rasterscan(sim, 1, nonlinear.tpl_ldos)\n",
    "\n",
    "\n",
    "## --- heat\n",
    "print \"calculating heat...\"\n",
    "Q0 = tools.calculate_rasterscan(sim, 0, linear.heat, return_units='uW')\n",
    "Q90 = tools.calculate_rasterscan(sim, 1, linear.heat, return_units='uW')\n",
    "\n",
    "\n",
    "## --- temperature increase\n",
    "print \"calculating temperature rise at (0,0,150)...\"\n",
    "r_probe = (0, 0, 150)\n",
    "DT0 = tools.calculate_rasterscan(sim, 0, linear.temperature, r_probe=r_probe, kappa_env=0.6)\n",
    "DT90 = tools.calculate_rasterscan(sim, 1, linear.temperature, r_probe=r_probe, kappa_env=0.6)"
   ]
  },
  {
   "cell_type": "markdown",
   "metadata": {},
   "source": [
    "**Note:** You should be sure to have chosen the correct indices (0 or 1 in our example) for the  raster-scan simulations. That's why we checked the indices above.\n",
    "\n",
    "\n",
    "Plotting the maps\n",
    "-------------------\n",
    "Now we have calculated 2D scalar maps of different physical quantities as function of a focused beam's position on the structure. \n",
    "We need to do nothing more that plotting it:"
   ]
  },
  {
   "cell_type": "code",
   "execution_count": 6,
   "metadata": {},
   "outputs": [
    {
     "data": {
      "image/png": "[encoded data removed]",
      "text/plain": [
       "<matplotlib.figure.Figure at 0x7fd436908710>"
      ]
     },
     "metadata": {},
     "output_type": "display_data"
    }
   ],
   "source": [
    "plt.figure(figsize=(10,6))\n",
    "\n",
    "## --- limit the number of ticks on the axes (for the colorbar!)\n",
    "from matplotlib.ticker import MaxNLocator\n",
    "MaxNLocator.default_params['nbins'] = 4\n",
    "\n",
    "\n",
    "## --- TPL\n",
    "plt.subplot(2,3,1, aspect='equal')\n",
    "plt.xticks([]); plt.yticks([]); plt.title(\"TPL, pol. 0\")\n",
    "visu.scalarfield(TPL0, cmap='jet', show=False)\n",
    "plt.colorbar(orientation='horizontal', shrink=0.8, aspect=12)\n",
    "visu.structure_contour(geometry, color='w', dashes=[2,2], lw=1.0, input_mesh='hex_onelayer', show=0)\n",
    "\n",
    "plt.subplot(2,3,4, aspect='equal')\n",
    "plt.xticks([]); plt.yticks([]); plt.title(\"TPL, pol. 90\")\n",
    "visu.scalarfield(TPL90, cmap='jet', show=False)\n",
    "plt.colorbar(orientation='horizontal', shrink=0.8, aspect=12)\n",
    "visu.structure_contour(geometry, color='w', dashes=[2,2], lw=1.0, input_mesh='hex_onelayer', show=0)\n",
    "\n",
    "\n",
    "## --- heat\n",
    "plt.subplot(2,3,2, aspect='equal')\n",
    "plt.xticks([]); plt.yticks([]); plt.title(\"Q, pol. 0\")\n",
    "visu.scalarfield(Q0, cmap='inferno', show=False)\n",
    "plt.colorbar(orientation='horizontal', shrink=0.8, aspect=12)\n",
    "visu.structure_contour(geometry, color='w', dashes=[2,2], lw=1.0, input_mesh='hex_onelayer', show=0)\n",
    "\n",
    "plt.subplot(2,3,5, aspect='equal')\n",
    "plt.xticks([]); plt.yticks([]); plt.title(\"Q, pol. 90\")\n",
    "visu.scalarfield(Q90, cmap='inferno', show=False)\n",
    "plt.colorbar(orientation='horizontal', shrink=0.8, aspect=12)\n",
    "visu.structure_contour(geometry, color='w', dashes=[2,2], lw=1.0, input_mesh='hex_onelayer', show=0)\n",
    "\n",
    "\n",
    "## --- temperature rise\n",
    "plt.subplot(2,3,3, aspect='equal')\n",
    "plt.xticks([]); plt.yticks([]); plt.title(\"DT, pol. 0\")\n",
    "visu.scalarfield(DT0, cmap='hot', show=False)\n",
    "plt.colorbar(orientation='horizontal', shrink=0.8, aspect=12)\n",
    "visu.structure_contour(geometry, color='w', dashes=[2,2], lw=1.0, input_mesh='hex_onelayer', show=0)\n",
    "\n",
    "plt.subplot(2,3,6, aspect='equal')\n",
    "plt.xticks([]); plt.yticks([]); plt.title(\"DT, pol. 90\")\n",
    "visu.scalarfield(DT90, cmap='hot', show=False)\n",
    "plt.colorbar(orientation='horizontal', shrink=0.8, aspect=12)\n",
    "visu.structure_contour(geometry, color='w', dashes=[2,2], lw=1.0, input_mesh='hex_onelayer', show=0)\n",
    "\n",
    "\n",
    "plt.show()"
   ]
  },
  {
   "cell_type": "code",
   "execution_count": null,
   "metadata": {
    "collapsed": true
   },
   "outputs": [],
   "source": []
  }
 ],
 "metadata": {
  "kernelspec": {
   "display_name": "Python 2",
   "language": "python",
   "name": "python2"
  },
  "language_info": {
   "codemirror_mode": {
    "name": "ipython",
    "version": 2
   },
   "file_extension": ".py",
   "mimetype": "text/x-python",
   "name": "python",
   "nbconvert_exporter": "python",
   "pygments_lexer": "ipython2",
   "version": "2.7.12"
  }
 },
 "nbformat": 4,
 "nbformat_minor": 2
}
