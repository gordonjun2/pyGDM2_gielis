{
 "cells": [
  {
   "cell_type": "markdown",
   "metadata": {},
   "source": [
    "Maximize nearfield enhancement\n",
    "======================\n",
    "\n",
    "In this example, we will search for a gold nano-structure geometry which leads to maximum electric field enhancement at some position (again of course for a specific wavelength and light polarization).\n",
    "\n",
    "\n",
    "Load the modules\n",
    "-------------------"
   ]
  },
  {
   "cell_type": "code",
   "execution_count": 1,
   "metadata": {
    "collapsed": true
   },
   "outputs": [],
   "source": [
    "from pyGDM2 import structures\n",
    "from pyGDM2 import materials\n",
    "from pyGDM2 import fields\n",
    "from pyGDM2 import core\n",
    "\n",
    "from pyGDM2.EO.problems import ProblemNearfield\n",
    "from pyGDM2.EO.models import RectangularAntenna\n",
    "from pyGDM2.EO.core import run_eo"
   ]
  },
  {
   "cell_type": "markdown",
   "metadata": {},
   "source": [
    "Setup and run the optimization\n",
    "-------------------------------\n",
    "\n",
    "Again, we setup first the pyGDM simulation and then the optimization model/problem/algorithm.\n",
    "The model will be again the simple rectangular structure, the problem is now the maximization of the nearfield.\n",
    "\n",
    "Finally we run the optimization.\n"
   ]
  },
  {
   "cell_type": "code",
   "execution_count": 2,
   "metadata": {},
   "outputs": [
    {
     "name": "stderr",
     "output_type": "stream",
     "text": [
      "/home/wiecha/.local/lib/python2.7/site-packages/pyGDM2/structures.py:119: UserWarning: Emtpy structure geometry.\n",
      "  warnings.warn(\"Emtpy structure geometry.\")\n",
      "/home/wiecha/.local/lib/python2.7/site-packages/pyGDM2/structures.py:104: UserWarning: Minimum structure Z-value lies below substrate level! Shifting structure bottom to Z=step/2.\n",
      "  \" Shifting structure bottom to Z=step/2.\")\n"
     ]
    },
    {
     "name": "stdout",
     "output_type": "stream",
     "text": [
      "Rectangular Antenna optimziation model: Note that this simple model is rather intended for testing and demonstration purposes.\n",
      "\n",
      "----------------------------------------------\n",
      " Starting new optimization\n",
      "----------------------------------------------\n",
      "\n",
      "\n",
      "iter #  1, time:    9.4s, progress #  1, f_evals: 80 \n"
     ]
    },
    {
     "name": "stderr",
     "output_type": "stream",
     "text": [
      "/home/wiecha/.local/lib/python2.7/site-packages/pyGDM2/EO/models.py:156: UserWarning: 'models.BaseModel.plot_structure' not re-implemented! Using `pyGDM2.visu.structure`.\n",
      "  warnings.warn(\"'models.BaseModel.plot_structure' not re-implemented! Using `pyGDM2.visu.structure`.\")\n"
     ]
    },
    {
     "data": {
      "image/png": "[encoded data removed]",
      "text/plain": [
       "<matplotlib.figure.Figure at 0x7fbeeb0c2cd0>"
      ]
     },
     "metadata": {},
     "output_type": "display_data"
    },
    {
     "name": "stdout",
     "output_type": "stream",
     "text": [
      "        - champion fitness: [-4.7713]\n",
      "\n",
      "iter #  2, time:   23.5s, progress #  1, f_evals: 120 (non-success: 1)\n",
      "iter #  3, time:   40.3s, progress #  1, f_evals: 160 (non-success: 2)\n",
      "iter #  4, time:   53.9s, progress #  1, f_evals: 200 (non-success: 3)\n",
      "iter #  5, time:   67.3s, progress #  2, f_evals: 240 \n",
      "        - champion fitness: [-5.6735]\n",
      "\n",
      "iter #  6, time:   83.6s, progress #  3, f_evals: 280 \n",
      "        - champion fitness: [-5.7323]\n",
      "\n",
      "iter #  7, time:   99.0s, progress #  4, f_evals: 320 \n",
      "        - champion fitness: [-11.997]\n",
      "\n",
      "iter #  8, time:  116.1s, progress #  4, f_evals: 360 (non-success: 1)\n",
      "iter #  9, time:  132.3s, progress #  4, f_evals: 400 (non-success: 2)\n",
      "iter # 10, time:  149.0s, progress #  5, f_evals: 440 \n"
     ]
    },
    {
     "data": {
      "image/png": "[encoded data removed]",
      "text/plain": [
       "<matplotlib.figure.Figure at 0x7fbeedb63390>"
      ]
     },
     "metadata": {},
     "output_type": "display_data"
    },
    {
     "name": "stdout",
     "output_type": "stream",
     "text": [
      "        - champion fitness: [-18.172]\n",
      "\n",
      "iter # 11, time:  163.4s, progress #  5, f_evals: 480 (non-success: 1)\n",
      "iter # 12, time:  176.4s, progress #  5, f_evals: 520 (non-success: 2)\n",
      "iter # 13, time:  194.1s, progress #  5, f_evals: 560 (non-success: 3)\n",
      "iter # 14, time:  209.5s, progress #  6, f_evals: 600 \n",
      "        - champion fitness: [-18.512]\n",
      "\n",
      "iter # 15, time:  220.0s, progress #  6, f_evals: 640 (non-success: 1)\n",
      "iter # 16, time:  234.5s, progress #  6, f_evals: 680 (non-success: 2)\n",
      "iter # 17, time:  245.0s, progress #  6, f_evals: 720 (non-success: 3)\n",
      "iter # 18, time:  255.1s, progress #  7, f_evals: 760 \n",
      "        - champion fitness: [-24.104]\n",
      "\n",
      "iter # 19, time:  267.2s, progress #  7, f_evals: 800 (non-success: 1)\n",
      "iter # 20, time:  276.1s, progress #  7, f_evals: 840 (non-success: 2)\n",
      "iter # 21, time:  289.2s, progress #  7, f_evals: 880 (non-success: 3)\n",
      "iter # 22, time:  308.7s, progress #  7, f_evals: 920 (non-success: 4)\n",
      "iter # 23, time:  324.3s, progress #  7, f_evals: 960 (non-success: 5)\n",
      "iter # 24, time:  333.8s, progress #  7, f_evals: 1000 (non-success: 6)\n",
      "iter # 25, time:  343.9s, progress #  8, f_evals: 1040 \n",
      "        - champion fitness: [-24.756]\n",
      "\n",
      "iter # 26, time:  351.9s, progress #  8, f_evals: 1080 (non-success: 1)\n",
      "iter # 27, time:  361.9s, progress #  8, f_evals: 1120 (non-success: 2)\n",
      "iter # 28, time:  371.5s, progress #  8, f_evals: 1160 (non-success: 3)\n",
      "iter # 29, time:  379.3s, progress #  9, f_evals: 1200 \n",
      "        - champion fitness: [-25.667]\n",
      "\n",
      "iter # 30, time:  386.5s, progress #  9, f_evals: 1240 (non-success: 1)\n",
      "\n",
      " -------- maximum interations reached\n"
     ]
    }
   ],
   "source": [
    "#==============================================================================\n",
    "# Setup pyGDM simulation\n",
    "#==============================================================================\n",
    "## ---------- Setup structure\n",
    "mesh = 'cube'\n",
    "step = 15\n",
    "material = materials.gold()        # material: gold\n",
    "n1, n2 = 1.0, 1.0         # constant environment\n",
    "\n",
    "## --- Empty dummy-geometry, will be replaced on run-time by EO trial geometries\n",
    "geometry = []       \n",
    "struct = structures.struct(step, geometry, material, n1,n2, structures.get_normalization(mesh))\n",
    "\n",
    "\n",
    "## ---------- Setup incident field\n",
    "field_generator = fields.planewave        # planwave excitation\n",
    "kwargs = dict(theta = [0.0])              # target polarization\n",
    "wavelengths = [800]                       # target wavelength\n",
    "efield = fields.efield(field_generator, wavelengths=wavelengths, kwargs=kwargs)\n",
    "\n",
    "\n",
    "## ---------- Simulation initialization\n",
    "sim = core.simulation(struct, efield)\n",
    "\n",
    "\n",
    "#==============================================================================\n",
    "# setup evolutionary optimization\n",
    "#==============================================================================\n",
    "## --- structure model and optimizaiton problem\n",
    "limits_W   = [2, 20]\n",
    "limits_L   = [2, 20] \n",
    "limits_pos = [-500, 500]\n",
    "height = 3\n",
    "model = RectangularAntenna(sim, limits_W, limits_L, limits_pos, height)\n",
    "\n",
    "target = 'E'\n",
    "r_probe = [-100, 150, 80]\n",
    "problem = ProblemNearfield(model, r_probe=r_probe, opt_target=target)\n",
    "\n",
    "\n",
    "\n",
    "## --- filename to save results \n",
    "results_filename = 'eo_NF.eo'\n",
    "\n",
    "## --- size of population\n",
    "population = 40          # Nr of individuals\n",
    "\n",
    "## --- stop criteria\n",
    "max_time = 400           # seconds\n",
    "max_iter = 30            # max. iterations\n",
    "max_nonsuccess = 10      # max. consecutive iterations without improvement\n",
    "\n",
    "## --- other config\n",
    "generations = 1          # generations to evolve between status reports\n",
    "plot_interval = 5        # plot each N improvements\n",
    "save_all_generations = False\n",
    "\n",
    "##  Use algorithm \"sade\" (jDE variant, a self-adaptive form of differential evolution)\n",
    "import pygmo as pg\n",
    "algorithm = pg.sade\n",
    "algorithm_kwargs = dict()   # optional kwargs passed to the algorithm\n",
    "\n",
    "\n",
    "eo_dict = run_eo(problem,\n",
    "                 population=population,\n",
    "                 algorithm=algorithm,\n",
    "                 plot_interval=plot_interval, \n",
    "                 generations=generations, \n",
    "                 max_time=max_time, max_iter=max_iter, max_nonsuccess=max_nonsuccess,\n",
    "                 filename=results_filename)"
   ]
  },
  {
   "cell_type": "markdown",
   "metadata": {},
   "source": [
    "**Note:** Since we have 4 free parameters (the scattering example had only 2), the convergence is visibly slower in this problem compared to the example maximizing the scattering.\n",
    "\n",
    "Load and analyze best solution\n",
    "-----------------------------------\n",
    "\n",
    "Let's calculate a nearfield map of the scattered field of the optimum structure"
   ]
  },
  {
   "cell_type": "code",
   "execution_count": 3,
   "metadata": {},
   "outputs": [
    {
     "name": "stdout",
     "output_type": "stream",
     "text": [
      "Best candidate after 9 iterations with improvement: fitness = ['-25.667']\n",
      "Testing: recalculating fitness... Done. Everything OK.\n",
      "\n",
      " ==================================================\n",
      "                    Problem: \n",
      "\tMaximization of near-field intensity\n",
      " target position: [-100  150   80]\n",
      " optimization: Nr of improvements 9\n",
      " optimization: best fitness [-25.66747458]\n",
      "===================================================\n",
      "\n"
     ]
    }
   ],
   "source": [
    "## --- load additional modules\n",
    "from pyGDM2 import linear\n",
    "from pyGDM2 import tools\n",
    "from pyGDM2 import visu\n",
    "\n",
    "from pyGDM2.EO.tools import get_best_candidate\n",
    "from pyGDM2.EO.tools import get_best_candidate_f_x\n",
    "from pyGDM2.EO.tools import get_problem\n",
    "\n",
    "import matplotlib.pyplot as plt\n",
    "\n",
    "\n",
    "#==============================================================================\n",
    "# Load best candidate from optimization\n",
    "#==============================================================================\n",
    "## --- optimization results file\n",
    "results_filename = 'eo_NF.eo'\n",
    "\n",
    "sim = get_best_candidate(results_filename, iteration=-1, verbose=True)\n",
    "problem = get_problem(results_filename)\n",
    "f, x, N_improvements = get_best_candidate_f_x(results_filename, iteration=-1)\n",
    "\n",
    "\n",
    "print '\\n =================================================='\n",
    "print \"                    Problem:\", problem.get_extra_info()\n",
    "print \" target position: {}\".format(problem.r_probe.T[0])\n",
    "print \" optimization: Nr of improvements {}\".format(N_improvements)\n",
    "print \" optimization: best fitness {}\".format(f)\n",
    "print '===================================================\\n'"
   ]
  },
  {
   "cell_type": "markdown",
   "metadata": {},
   "source": [
    "**Note:** We don't even have to setup a new simulation in this case, since we keep all parameters as during in the optimization (remember, when we were analyzing the optimum solution in the scattering example we calculated a whole spectrum which we don't need to do now). \n",
    "In this example, we will simply use the `simulation` object, returned by `get_best_candidate`. Since we didn't turn off the fitness-verification, `core.scatter` was already executed within `get_best_candidate`, so all we need to do is to use `linear.nearfield` to get the nearfield distribution on a 2D map outside the structure.\n",
    "\n",
    "Nearfield map above optimum solution\n",
    "-----------------------------------------"
   ]
  },
  {
   "cell_type": "code",
   "execution_count": 4,
   "metadata": {
    "collapsed": true
   },
   "outputs": [],
   "source": [
    "## --- map 80nm above substrate\n",
    "MAP = tools.generate_NF_map_XY(-300,300,51, -300,300,51, Z0=80)\n",
    "Es, Etot, Bs, Btot = linear.nearfield(sim, field_index=0, r_probe=MAP)"
   ]
  },
  {
   "cell_type": "markdown",
   "metadata": {},
   "source": [
    "Finally, we plot the result (including the structure contour and target position of NF maximization):"
   ]
  },
  {
   "cell_type": "code",
   "execution_count": 5,
   "metadata": {},
   "outputs": [
    {
     "data": {
      "image/png": "[encoded data removed]",
      "text/plain": [
       "<matplotlib.figure.Figure at 0x7fbeeadb4b90>"
      ]
     },
     "metadata": {},
     "output_type": "display_data"
    }
   ],
   "source": [
    "plt.figure()\n",
    "plt.subplot(aspect='equal')\n",
    "plt.title(\"E-field\")\n",
    "\n",
    "im = visu.structure_contour(sim, color='w', dashes=[2,2], show=0, zorder=10)\n",
    "im = visu.vectorfield_color(Es, show=0, interpolation='bicubic')\n",
    "plt.colorbar(label=r'$|\\mathbf{E}|^2/|\\mathbf{E}_0|^2$')\n",
    "\n",
    "plt.scatter(problem.r_probe[0], problem.r_probe[1], marker='x', lw=3, s=75, color='k', label='target')\n",
    "plt.legend(loc='best', fontsize=8)\n",
    "\n",
    "plt.xlabel(\"X (nm)\")\n",
    "plt.ylabel(\"Y (nm)\")\n",
    "plt.clim( [0, im.get_clim()[1]] )\n",
    "\n",
    "\n",
    "plt.tight_layout()\n",
    "plt.show()"
   ]
  },
  {
   "cell_type": "markdown",
   "metadata": {},
   "source": [
    "The optimization result has a nearfield hot-spot at the target position *(X,Y,Z)* = *(-100, 150, 80)*. \n",
    "\n",
    "This is a pretty encouraging result: Not only did the algorithm find a nano-rod resonant at the target wavelength, also it shifted the structure to the optimum location such that the spot of maximum field enhancement coincides with the target position."
   ]
  }
 ],
 "metadata": {
  "kernelspec": {
   "display_name": "Python 2",
   "language": "python",
   "name": "python2"
  },
  "language_info": {
   "codemirror_mode": {
    "name": "ipython",
    "version": 2
   },
   "file_extension": ".py",
   "mimetype": "text/x-python",
   "name": "python",
   "nbconvert_exporter": "python",
   "pygments_lexer": "ipython2",
   "version": "2.7.12"
  }
 },
 "nbformat": 4,
 "nbformat_minor": 2
}
