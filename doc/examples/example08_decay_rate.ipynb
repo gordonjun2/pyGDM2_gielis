{
 "cells": [
  {
   "cell_type": "markdown",
   "metadata": {},
   "source": [
    "Decay rate of dipolar emitter\n",
    "====================================\n",
    "\n",
    "In this example, we demonstrate how the decay rate of a dipolar emitter is influenced by the presence of dielectric nanostructures (for the theory in the framework of the GDM, see also [1]).\n",
    "In the following we will therefore rasterscan a dipolar emitter oscillating at a frequency of wavelength $\\lambda=500$nm in a plane 15nm above a small dielectric sphere ($n=2$) and calculate the modification of the dipole decay rate at each position.\n",
    "\n",
    "\n",
    "\n",
    "[1] Wiecha, P. R. et al. *Decay Rate of Magnetic Dipoles near Non-magnetic Nanostructures*. **arXiv** 1707.07006 (2017) (https://arxiv.org/abs/1707.07006)\n",
    " \n",
    "\n",
    "Simulation setup\n",
    "--------------------"
   ]
  },
  {
   "cell_type": "code",
   "execution_count": 1,
   "metadata": {
    "collapsed": true
   },
   "outputs": [],
   "source": [
    "## --- load the modules\n",
    "from pyGDM2 import structures\n",
    "from pyGDM2 import materials\n",
    "from pyGDM2 import fields\n",
    "\n",
    "from pyGDM2 import core\n",
    "from pyGDM2 import linear\n",
    "from pyGDM2 import visu\n",
    "from pyGDM2 import tools\n",
    "\n",
    "import numpy as np\n",
    "import matplotlib.pyplot as plt\n",
    "\n",
    "\n",
    "## --- setup simulation\n",
    "mesh = 'cube'\n",
    "step = 7.0   # discretization in nm\n",
    "L = 21       # cube side-length in nm\n",
    "geometry = structures.rect_wire(step, L=L/step,H=L/step, W=L/step, mesh=mesh)\n",
    "geometry.T[2] += step/2.\n",
    "\n",
    "material = materials.dummy(2.0)\n",
    "n1, n2 = 1.0, 1.0  # in vacuum\n",
    "\n",
    "struct = structures.struct(step, geometry, material, n1,n2, structures.get_normalization(mesh))\n",
    "struct = structures.center_struct(struct)\n",
    "\n",
    "\n",
    "\n",
    "## --- Setup incident field (including dipole positions to evaluate)\n",
    "x0 = np.linspace(-200, 200, 31)                  # x-scan pos.\n",
    "y0 = np.linspace(-200, 200, 31)                  # y-scan pos.\n",
    "z0 = struct.geometry.T[2].max() + step/2. + 15   # fixed height: 15nm above struct\n",
    "\n",
    "kwargs = dict(x0=x0, y0=y0, z0=z0,    # positions where to evaluate\n",
    "              mx=0,my=0,mz=0)         # dipole orientation (0,0,0) --> placeholder\n",
    "wavelengths = [500]\n"
   ]
  },
  {
   "cell_type": "markdown",
   "metadata": {},
   "source": [
    "Electric and magnetic dipole\n",
    "-------------------------------------\n",
    "We will do the same decay-rate simulation twice, using first an electric and second a magnetic dipole to compare the two cases"
   ]
  },
  {
   "cell_type": "code",
   "execution_count": 2,
   "metadata": {
    "collapsed": true
   },
   "outputs": [],
   "source": [
    "## --- electric dipole\n",
    "efield_p = fields.efield(fields.dipole_electric, wavelengths, kwargs)\n",
    "sim_p = core.simulation(struct, efield_p)\n",
    "\n",
    "## --- magnetic dipole\n",
    "efield_m = fields.efield(fields.dipole_magnetic, wavelengths, kwargs)\n",
    "sim_m = core.simulation(struct, efield_m)"
   ]
  },
  {
   "cell_type": "markdown",
   "metadata": {},
   "source": [
    "Decay rate simulation\n",
    "----------------------------------------------\n",
    "\n",
    "Now we run the main simulation which will calculate the tensors ${\\cal S}_p^{EE}$ (or  ${\\cal S}_p^{HH}$ for a magnetic dipole transition, see also [1] for details) at each defined dipole-position. We can then re-use this result to very rapidly calculate the decay-rate mappings for arbitrary orientations and amplitudes of the transition dipole."
   ]
  },
  {
   "cell_type": "code",
   "execution_count": 3,
   "metadata": {},
   "outputs": [
    {
     "name": "stdout",
     "output_type": "stream",
     "text": [
      "Wavelength: 500.0nm - electric dipole\n",
      "  - inversion:            0.000s\n",
      "  - decay repropagation:  0.400s\n",
      "Wavelength: 500.0nm - magnetic dipole\n",
      "  - inversion:            0.000s\n",
      "  - decay repropagation:  0.162s\n"
     ]
    }
   ],
   "source": [
    "## --- electric dipole decay rate\n",
    "SBB_p = core.decay_rate(sim_p, verbose=True)\n",
    "\n",
    "## --- magnetic dipole decay rate\n",
    "SBB_m = core.decay_rate(sim_m, verbose=True)"
   ]
  },
  {
   "cell_type": "markdown",
   "metadata": {},
   "source": [
    "plot the results for different orientations\n",
    "------------------------------------------------------"
   ]
  },
  {
   "cell_type": "code",
   "execution_count": 4,
   "metadata": {},
   "outputs": [
    {
     "name": "stdout",
     "output_type": "stream",
     "text": [
      "decay-rate evaluated using:\n",
      "  - wavelength: 500.0nm\n",
      "  - dipole type: electric\n",
      "  - dipole vector: (1, 0, 0)\n",
      "decay-rate evaluated using:\n",
      "  - wavelength: 500.0nm\n",
      "  - dipole type: magnetic\n",
      "  - dipole vector: (1, 0, 0)\n",
      "decay-rate evaluated using:\n",
      "  - wavelength: 500.0nm\n",
      "  - dipole type: electric\n",
      "  - dipole vector: (0, 1, 0)\n",
      "decay-rate evaluated using:\n",
      "  - wavelength: 500.0nm\n",
      "  - dipole type: magnetic\n",
      "  - dipole vector: (0, 1, 0)\n",
      "decay-rate evaluated using:\n",
      "  - wavelength: 500.0nm\n",
      "  - dipole type: electric\n",
      "  - dipole vector: (0, 0, 1)\n",
      "decay-rate evaluated using:\n",
      "  - wavelength: 500.0nm\n",
      "  - dipole type: magnetic\n",
      "  - dipole vector: (0, 0, 1)\n"
     ]
    },
    {
     "data": {
      "image/png": "[encoded data removed]",
      "text/plain": [
       "<matplotlib.figure.Figure at 0x7f4202f232d0>"
      ]
     },
     "metadata": {},
     "output_type": "display_data"
    }
   ],
   "source": [
    "## list of dipole test orientations\n",
    "dp_list = [[1, 0, 0], \n",
    "           [0, 1, 0], \n",
    "           [0, 0, 1]]\n",
    "\n",
    "plt.figure(figsize=(10,5))\n",
    "for i, (mx,my,mz) in enumerate(dp_list):\n",
    "\n",
    "    SBB_map_e = linear.decay_eval(sim_p, SBB_p[0], mx,my,mz, verbose=1)\n",
    "    SBB_map_m = linear.decay_eval(sim_m, SBB_m[0], mx,my,mz, verbose=1)\n",
    "    \n",
    "    \n",
    "    plt.subplot(2,3,i+1, aspect='equal')\n",
    "    plt.title(r\"{} dipole $\\parallel$ ({},{},{})\".format('electric',mx,my,mz))\n",
    "    visu.scalarfield(SBB_map_e, cmap='jet', show=False)\n",
    "    cbar = plt.colorbar()\n",
    "    cbar.set_label(r'$\\Gamma_e / \\Gamma_0$', rotation=270, labelpad=12, fontsize=9)\n",
    "        \n",
    "    plt.subplot(2,3,i+4, aspect='equal')\n",
    "    plt.title(r\"{} dipole $\\parallel$ ({},{},{})\".format('magnetic',mx,my,mz))\n",
    "    visu.scalarfield(SBB_map_m, cmap='jet', show=False)\n",
    "    cbar = plt.colorbar()\n",
    "    cbar.set_label(r'$\\Gamma_m / \\Gamma_0$', rotation=270, labelpad=12, fontsize=9)\n",
    "    \n",
    "    \n",
    "\n",
    "plt.tight_layout()\n",
    "\n",
    "plt.show()"
   ]
  },
  {
   "cell_type": "markdown",
   "metadata": {},
   "source": [
    "The first observation is the inverted contrast when comparing electric and magnetic dipole.\n",
    "Another noteworthy observation is the much narrower confinement of the features in the case of an electric dipole compared to the magnetic transition. Furthermore, also the magnitude of the decay rate variation is much stronger for the electric dipole.\n",
    "Both phenomena can be attributed to the more *direct* interaction of an electric dipole with the nano-structure, compared to the rather *indirect* magnetic response of the itself *non-magnetic* nano-sphere."
   ]
  },
  {
   "cell_type": "code",
   "execution_count": null,
   "metadata": {
    "collapsed": true
   },
   "outputs": [],
   "source": []
  }
 ],
 "metadata": {
  "kernelspec": {
   "display_name": "Python 2",
   "language": "python",
   "name": "python2"
  },
  "language_info": {
   "codemirror_mode": {
    "name": "ipython",
    "version": 2
   },
   "file_extension": ".py",
   "mimetype": "text/x-python",
   "name": "python",
   "nbconvert_exporter": "python",
   "pygments_lexer": "ipython2",
   "version": "2.7.12"
  }
 },
 "nbformat": 4,
 "nbformat_minor": 2
}
