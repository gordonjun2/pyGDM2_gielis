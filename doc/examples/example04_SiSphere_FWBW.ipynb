{
 "cells": [
  {
   "cell_type": "markdown",
   "metadata": {},
   "source": [
    "Forward / backward resolved scattering\n",
    "=========================================\n",
    "\n",
    "In this example, we try to reproduce the directional visible light scattering from silicon spheres, reported by *Fu et al.* [1].\n",
    "\n",
    "\n",
    "\n",
    "[1]: Fu, Y. H. et al.: *Directional visible light scattering by silicon nanoparticles*. **Nat Commun** 4, 1527 (2013) (https://doi.org/10.1038/ncomms2538)\n"
   ]
  },
  {
   "cell_type": "code",
   "execution_count": 1,
   "metadata": {
    "collapsed": true
   },
   "outputs": [],
   "source": [
    "from pyGDM2 import structures\n",
    "from pyGDM2 import materials\n",
    "from pyGDM2 import fields\n",
    "\n",
    "from pyGDM2 import core\n",
    "from pyGDM2 import tools\n",
    "from pyGDM2 import linear\n",
    "from pyGDM2 import visu\n",
    "\n",
    "import numpy as np\n",
    "import matplotlib.pyplot as plt"
   ]
  },
  {
   "cell_type": "markdown",
   "metadata": {},
   "source": [
    "Setting up the simulation\n",
    "--------------------------------"
   ]
  },
  {
   "cell_type": "code",
   "execution_count": 2,
   "metadata": {
    "collapsed": true
   },
   "outputs": [],
   "source": [
    "## --- Setup incident field\n",
    "field_generator = fields.planewave\n",
    "wavelengths = np.exp(np.linspace(np.log(300), np.log(1000), 30))\n",
    "kwargs = dict(theta = [0.0])\n",
    "efield = fields.efield(field_generator, wavelengths=wavelengths, kwargs=kwargs)\n",
    "\n",
    "\n",
    "## --- Setup geometry (sphere D=150nm in vacuum)\n",
    "scale_factor = 1.4\n",
    "step = 18.75/scale_factor\n",
    "radius = 4.*scale_factor\n",
    "geometry = structures.sphere(step, R=radius, mesh='hex', ORIENTATION=2)\n",
    "\n",
    "material = materials.silicon()\n",
    "n1, n2 = 1.0, 1.0     # vacuum env.\n",
    "\n",
    "struct = structures.struct(step, geometry, material, n1,n2, \n",
    "                                   structures.get_normalization('hex'))\n",
    "\n",
    "\n",
    "sim = core.simulation(struct, efield)"
   ]
  },
  {
   "cell_type": "markdown",
   "metadata": {},
   "source": [
    "Run the simulation, get FW/BW scattering spectra\n",
    "-------------------------------------------------\n",
    "\n",
    "At first we run the main simulation *core.scatter*, then we calculate the scattering to the farfield separately for the upper and lower hemi-sphere:"
   ]
  },
  {
   "cell_type": "code",
   "execution_count": 3,
   "metadata": {},
   "outputs": [
    {
     "name": "stdout",
     "output_type": "stream",
     "text": [
      "timing 300.00nm:     1280.4 ms\n",
      "timing 312.72nm:     1264.3 ms\n",
      "timing 325.97nm:     1100.5 ms\n",
      "timing 339.79nm:     1174.2 ms\n",
      "timing 354.20nm:     1098.9 ms\n",
      "timing 369.21nm:     1091.6 ms\n",
      "timing 384.86nm:     1145.5 ms\n",
      "timing 401.17nm:     1090.4 ms\n",
      "timing 418.18nm:     1204.7 ms\n",
      "timing 435.91nm:     1307.4 ms\n",
      "timing 454.39nm:     1121.6 ms\n",
      "timing 473.65nm:     1104.6 ms\n",
      "timing 493.72nm:     1322.0 ms\n",
      "timing 514.65nm:     1219.0 ms\n",
      "timing 536.47nm:     1520.8 ms\n",
      "timing 559.21nm:     1103.9 ms\n",
      "timing 582.92nm:     1396.4 ms\n",
      "timing 607.63nm:     1411.1 ms\n",
      "timing 633.38nm:     1105.0 ms\n",
      "timing 660.23nm:     1129.2 ms\n",
      "timing 688.22nm:     1653.1 ms\n",
      "timing 717.39nm:     1199.5 ms\n",
      "timing 747.80nm:     1326.8 ms\n",
      "timing 779.50nm:     1351.2 ms\n",
      "timing 812.55nm:     1342.0 ms\n",
      "timing 846.99nm:     1305.0 ms\n",
      "timing 882.90nm:     1280.7 ms\n",
      "timing 920.32nm:     1415.4 ms\n",
      "timing 959.33nm:     1179.2 ms\n",
      "timing 1000.00nm:     1129.0 ms\n"
     ]
    }
   ],
   "source": [
    "## main simulation\n",
    "E = core.scatter(sim, method='lu', verbose=True)\n",
    "\n",
    "## FW and BW scattering spectrum\n",
    "field_kwargs = tools.get_possible_field_params_spectra(sim)[0]\n",
    "wl, scat_fw = tools.calculate_spectrum(sim, field_kwargs, linear.farfield, \n",
    "                                      tetamin=np.pi/2., tetamax=np.pi, \n",
    "                                      return_value='int_Es')\n",
    "wl, scat_bw = tools.calculate_spectrum(sim, field_kwargs, linear.farfield, \n",
    "                                      tetamin=0, tetamax=np.pi/2., \n",
    "                                      return_value='int_Es')"
   ]
  },
  {
   "cell_type": "markdown",
   "metadata": {},
   "source": [
    "Plot the FW/BW spectra\n",
    "---------------------------\n",
    "\n",
    "Let's see what scattering we get in both directions:"
   ]
  },
  {
   "cell_type": "code",
   "execution_count": 4,
   "metadata": {},
   "outputs": [
    {
     "data": {
      "image/png": "[encoded data removed]",
      "text/plain": [
       "<matplotlib.figure.Figure at 0x7f5054105cd0>"
      ]
     },
     "metadata": {},
     "output_type": "display_data"
    }
   ],
   "source": [
    "plt.figure()\n",
    "plt.title(r\"D=150nm Si sphere\")\n",
    "\n",
    "## --- scattering spectra FW & BW\n",
    "plt.plot(wl, scat_fw, 'r', label='FW.')\n",
    "plt.plot(wl, scat_bw, 'b', label='BW.')\n",
    "\n",
    "plt.xlabel(\"wavelength (nm)\")\n",
    "plt.ylabel(r\"scat. cross-section (nm^2)\")\n",
    "plt.xlim(400,800)\n",
    "\n",
    "plt.plot([0], [0], color='g', dashes=[2,1], label='FW/BW')  # for legend entry\n",
    "plt.legend(loc='center', frameon=False, ncol=1, bbox_to_anchor=(0.83, 0.3))\n",
    "\n",
    "\n",
    "## --- logscale FW/BW ratio on right y-axis\n",
    "plt.twinx()\n",
    "plt.plot(wl, scat_fw/scat_bw, color='g', dashes=[2,1])\n",
    "plt.plot([400,800], [1,1], color='k', lw=0.5, dashes=[2,1], label='FW/BW=1')\n",
    "\n",
    "plt.ylabel(r\"FW/BW ratio\", rotation=270, labelpad=8, color='g')\n",
    "plt.yscale('log')\n",
    "plt.xlim( [400, 800] )\n",
    "plt.ylim( [0.1, 10] )\n",
    "plt.legend(loc='center', frameon=False, ncol=1, bbox_to_anchor=(0.8, 0.55))\n",
    "\n",
    "\n",
    "plt.tight_layout()\n",
    "plt.show()"
   ]
  },
  {
   "cell_type": "markdown",
   "metadata": {},
   "source": [
    "Comparing this with the paper [1], cited at the very top, this looks pretty much exactly like their results (a bit less smooth of course...)."
   ]
  }
 ],
 "metadata": {
  "kernelspec": {
   "display_name": "Python 2",
   "language": "python",
   "name": "python2"
  },
  "language_info": {
   "codemirror_mode": {
    "name": "ipython",
    "version": 2
   },
   "file_extension": ".py",
   "mimetype": "text/x-python",
   "name": "python",
   "nbconvert_exporter": "python",
   "pygments_lexer": "ipython2",
   "version": "2.7.12"
  }
 },
 "nbformat": 4,
 "nbformat_minor": 2
}
