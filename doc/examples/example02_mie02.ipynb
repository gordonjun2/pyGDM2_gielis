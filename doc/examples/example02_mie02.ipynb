{
 "cells": [
  {
   "cell_type": "markdown",
   "metadata": {},
   "source": [
    "Gold nano-sphere\n",
    "============================\n",
    "\n",
    "Comparing pyGDM to Mie theory for a gold nano-sphere (D=50nm).\n",
    "\n",
    "Modules:"
   ]
  },
  {
   "cell_type": "code",
   "execution_count": 1,
   "metadata": {
    "collapsed": true
   },
   "outputs": [],
   "source": [
    "from pyGDM2 import structures\n",
    "from pyGDM2 import materials\n",
    "from pyGDM2 import fields\n",
    "\n",
    "from pyGDM2 import core\n",
    "from pyGDM2 import tools\n",
    "from pyGDM2 import linear\n",
    "from pyGDM2 import visu\n",
    "\n",
    "import numpy as np\n",
    "import matplotlib.pyplot as plt\n",
    "\n",
    "\n",
    "## --- load pre-calculated Mie-data\n",
    "wl_mie, qext_mie, qsca_mie = np.loadtxt(\"scat_mie_Au_D50nm.txt\").T\n",
    "qabs_mie = qext_mie - qsca_mie"
   ]
  },
  {
   "cell_type": "markdown",
   "metadata": {},
   "source": [
    "Simulation setup\n",
    "--------------------"
   ]
  },
  {
   "cell_type": "code",
   "execution_count": 2,
   "metadata": {},
   "outputs": [
    {
     "data": {
      "image/png": "[encoded data removed]",
      "text/plain": [
       "<matplotlib.figure.Figure at 0x7f5910bdaad0>"
      ]
     },
     "metadata": {},
     "output_type": "display_data"
    },
    {
     "name": "stdout",
     "output_type": "stream",
     "text": [
      "(hex) ----- N_dipoles = 1111\n"
     ]
    }
   ],
   "source": [
    "## --- Setup incident field\n",
    "field_generator = fields.planewave\n",
    "## log-interval spectrum (denser at low lambda):\n",
    "wavelengths = np.exp(np.linspace(np.log(300), np.log(1000), 30))\n",
    "kwargs = dict(theta = [0.0])\n",
    "efield = fields.efield(field_generator, wavelengths=wavelengths, \n",
    "                                                   kwargs=kwargs)\n",
    "\n",
    "\n",
    "## --- Setup geometry (sphere D=50nm in vacuum)\n",
    "scale_factor = 1.38\n",
    "step = 6.25/scale_factor\n",
    "radius = 4.*scale_factor\n",
    "geometry = structures.sphere(step, R=radius, mesh='hex', ORIENTATION=2)\n",
    "\n",
    "material = materials.gold()\n",
    "n1, n2 = 1.0, 1.0     # vacuum env.\n",
    "\n",
    "struct = structures.struct(step, geometry, material, n1,n2, \n",
    "                                   structures.get_normalization('hex'))\n",
    "\n",
    "\n",
    "sim = core.simulation(struct, efield)\n",
    "\n",
    "visu.structure(sim)\n",
    "print '(hex) ----- N_dipoles =', len(sim.struct.geometry),"
   ]
  },
  {
   "cell_type": "markdown",
   "metadata": {},
   "source": [
    "Run the simulation\n",
    "--------------------------"
   ]
  },
  {
   "cell_type": "code",
   "execution_count": 3,
   "metadata": {},
   "outputs": [
    {
     "name": "stdout",
     "output_type": "stream",
     "text": [
      "timing 300.00nm:     1250.8 ms\n",
      "timing 312.72nm:     1040.6 ms\n",
      "timing 325.97nm:     1019.2 ms\n",
      "timing 339.79nm:     1083.3 ms\n",
      "timing 354.20nm:     980.4 ms\n",
      "timing 369.21nm:     998.8 ms\n",
      "timing 384.86nm:     971.9 ms\n",
      "timing 401.17nm:     1007.1 ms\n",
      "timing 418.18nm:     1032.1 ms\n",
      "timing 435.91nm:     1215.7 ms\n",
      "timing 454.39nm:     1014.1 ms\n",
      "timing 473.65nm:     1059.3 ms\n",
      "timing 493.72nm:     1054.8 ms\n",
      "timing 514.65nm:     1200.3 ms\n",
      "timing 536.47nm:     1039.2 ms\n",
      "timing 559.21nm:     1186.9 ms\n",
      "timing 582.92nm:     1184.0 ms\n",
      "timing 607.63nm:     974.8 ms\n",
      "timing 633.38nm:     992.0 ms\n",
      "timing 660.23nm:     1325.6 ms\n",
      "timing 688.22nm:     995.4 ms\n",
      "timing 717.39nm:     997.0 ms\n",
      "timing 747.80nm:     1352.0 ms\n",
      "timing 779.50nm:     1001.4 ms\n",
      "timing 812.55nm:     1187.8 ms\n",
      "timing 846.99nm:     1014.9 ms\n",
      "timing 882.90nm:     1310.3 ms\n",
      "timing 920.32nm:     1212.5 ms\n",
      "timing 959.33nm:     1111.4 ms\n",
      "timing 1000.00nm:     998.8 ms\n"
     ]
    }
   ],
   "source": [
    "## main simulation\n",
    "E = core.scatter(sim, method='lu', verbose=True)\n",
    "\n",
    "## extinction spectrum\n",
    "field_kwargs = tools.get_possible_field_params_spectra(sim)[0]\n",
    "wl, spec = tools.calculate_spectrum(sim, field_kwargs, linear.extinct)\n",
    "a_ext, a_sca, a_abs = spec.T\n",
    "a_geo = tools.get_geometric_cross_section(sim)"
   ]
  },
  {
   "cell_type": "markdown",
   "metadata": {},
   "source": [
    "Plot the spectrum\n",
    "---------------------------"
   ]
  },
  {
   "cell_type": "code",
   "execution_count": 4,
   "metadata": {},
   "outputs": [
    {
     "data": {
      "image/png": "[encoded data removed]",
      "text/plain": [
       "<matplotlib.figure.Figure at 0x7f58e0e6c410>"
      ]
     },
     "metadata": {},
     "output_type": "display_data"
    }
   ],
   "source": [
    "plt.figure()\n",
    "plt.title(\"gold sphere, D=50nm\")\n",
    "\n",
    "## --- Mie\n",
    "plt.plot(wl_mie, qext_mie, 'b--', dashes=[2,1],label='ext.')\n",
    "plt.plot(wl_mie, qabs_mie, 'g--', dashes=[2,1],label='abs.')\n",
    "plt.plot(wl_mie, qsca_mie, 'r--', dashes=[2,1],label='scat.')\n",
    "\n",
    "## --- pyGDM\n",
    "plt.scatter(wl, a_ext/a_geo, marker='x', linewidth=1.5, color='b', label='')\n",
    "plt.scatter(wl, a_abs/a_geo, marker='x', linewidth=1.5, color='g', label='')\n",
    "plt.scatter(wl, a_sca/a_geo, marker='x', linewidth=1.5, color='r', label='')\n",
    "\n",
    "## --- for legend only\n",
    "plt.plot([0], [0], 'k--', dashes=[2,1], label='Mie')\n",
    "plt.scatter([0], [0], marker='x', linewidth=1.5, color='k', label='pyGDM')\n",
    "## -- legend\n",
    "plt.legend(loc='best', fontsize=12)\n",
    "\n",
    "\n",
    "plt.xlabel(\"wavelength (nm)\")\n",
    "plt.ylabel(\"ext. / scat. / abs. efficiency\")\n",
    "plt.xlim( [wl.min(), wl.max()] )\n",
    "plt.ylim( [0, 2] )\n",
    "\n",
    "\n",
    "plt.tight_layout()\n",
    "plt.show()"
   ]
  },
  {
   "cell_type": "markdown",
   "metadata": {},
   "source": [
    "Except a slight offset in the extinction/absorption sections, the agreement with Mie theory is pretty nice. In particular, the plasmon resonance wavelength is reproduced with very good agreement."
   ]
  }
 ],
 "metadata": {
  "kernelspec": {
   "display_name": "Python 2",
   "language": "python",
   "name": "python2"
  },
  "language_info": {
   "codemirror_mode": {
    "name": "ipython",
    "version": 2
   },
   "file_extension": ".py",
   "mimetype": "text/x-python",
   "name": "python",
   "nbconvert_exporter": "python",
   "pygments_lexer": "ipython2",
   "version": "2.7.12"
  }
 },
 "nbformat": 4,
 "nbformat_minor": 2
}
